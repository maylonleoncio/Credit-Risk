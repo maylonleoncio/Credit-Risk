{
 "cells": [
  {
   "cell_type": "markdown",
   "id": "81f6aa25",
   "metadata": {},
   "source": [
    "# Project Credit Risk"
   ]
  },
  {
   "cell_type": "code",
   "execution_count": 1,
   "id": "9fbfe32f",
   "metadata": {},
   "outputs": [],
   "source": [
    "import pandas as pd\n",
    "import numpy as np \n",
    "import matplotlib.pyplot as plt\n",
    "import seaborn as sns"
   ]
  },
  {
   "cell_type": "code",
   "execution_count": null,
   "id": "5dc9024c",
   "metadata": {},
   "outputs": [],
   "source": [
    "!pip install ucimlrepo"
   ]
  },
  {
   "cell_type": "code",
   "execution_count": 2,
   "id": "913fdbae",
   "metadata": {},
   "outputs": [],
   "source": [
    "from ucimlrepo import fetch_ucirepo"
   ]
  },
  {
   "cell_type": "code",
   "execution_count": 3,
   "id": "09cfb82d",
   "metadata": {},
   "outputs": [
    {
     "data": {
      "text/html": [
       "<div>\n",
       "<style scoped>\n",
       "    .dataframe tbody tr th:only-of-type {\n",
       "        vertical-align: middle;\n",
       "    }\n",
       "\n",
       "    .dataframe tbody tr th {\n",
       "        vertical-align: top;\n",
       "    }\n",
       "\n",
       "    .dataframe thead th {\n",
       "        text-align: right;\n",
       "    }\n",
       "</style>\n",
       "<table border=\"1\" class=\"dataframe\">\n",
       "  <thead>\n",
       "    <tr style=\"text-align: right;\">\n",
       "      <th></th>\n",
       "      <th>checking_status_acc</th>\n",
       "      <th>duration</th>\n",
       "      <th>credit_history</th>\n",
       "      <th>purpose</th>\n",
       "      <th>amount</th>\n",
       "      <th>savings</th>\n",
       "      <th>employment</th>\n",
       "      <th>installment_rate</th>\n",
       "      <th>marital_Gender</th>\n",
       "      <th>other_debtors</th>\n",
       "      <th>...</th>\n",
       "      <th>property</th>\n",
       "      <th>age</th>\n",
       "      <th>other_installment_plans</th>\n",
       "      <th>housing</th>\n",
       "      <th>existing_credits</th>\n",
       "      <th>job</th>\n",
       "      <th>dependents</th>\n",
       "      <th>telephone</th>\n",
       "      <th>foreign_worker</th>\n",
       "      <th>credit_risk</th>\n",
       "    </tr>\n",
       "  </thead>\n",
       "  <tbody>\n",
       "    <tr>\n",
       "      <th>0</th>\n",
       "      <td>A11</td>\n",
       "      <td>6</td>\n",
       "      <td>A34</td>\n",
       "      <td>A43</td>\n",
       "      <td>1169</td>\n",
       "      <td>A65</td>\n",
       "      <td>A75</td>\n",
       "      <td>4</td>\n",
       "      <td>A93</td>\n",
       "      <td>A101</td>\n",
       "      <td>...</td>\n",
       "      <td>A121</td>\n",
       "      <td>67</td>\n",
       "      <td>A143</td>\n",
       "      <td>A152</td>\n",
       "      <td>2</td>\n",
       "      <td>A173</td>\n",
       "      <td>1</td>\n",
       "      <td>A192</td>\n",
       "      <td>A201</td>\n",
       "      <td>1</td>\n",
       "    </tr>\n",
       "    <tr>\n",
       "      <th>1</th>\n",
       "      <td>A12</td>\n",
       "      <td>48</td>\n",
       "      <td>A32</td>\n",
       "      <td>A43</td>\n",
       "      <td>5951</td>\n",
       "      <td>A61</td>\n",
       "      <td>A73</td>\n",
       "      <td>2</td>\n",
       "      <td>A92</td>\n",
       "      <td>A101</td>\n",
       "      <td>...</td>\n",
       "      <td>A121</td>\n",
       "      <td>22</td>\n",
       "      <td>A143</td>\n",
       "      <td>A152</td>\n",
       "      <td>1</td>\n",
       "      <td>A173</td>\n",
       "      <td>1</td>\n",
       "      <td>A191</td>\n",
       "      <td>A201</td>\n",
       "      <td>2</td>\n",
       "    </tr>\n",
       "    <tr>\n",
       "      <th>2</th>\n",
       "      <td>A14</td>\n",
       "      <td>12</td>\n",
       "      <td>A34</td>\n",
       "      <td>A46</td>\n",
       "      <td>2096</td>\n",
       "      <td>A61</td>\n",
       "      <td>A74</td>\n",
       "      <td>2</td>\n",
       "      <td>A93</td>\n",
       "      <td>A101</td>\n",
       "      <td>...</td>\n",
       "      <td>A121</td>\n",
       "      <td>49</td>\n",
       "      <td>A143</td>\n",
       "      <td>A152</td>\n",
       "      <td>1</td>\n",
       "      <td>A172</td>\n",
       "      <td>2</td>\n",
       "      <td>A191</td>\n",
       "      <td>A201</td>\n",
       "      <td>1</td>\n",
       "    </tr>\n",
       "    <tr>\n",
       "      <th>3</th>\n",
       "      <td>A11</td>\n",
       "      <td>42</td>\n",
       "      <td>A32</td>\n",
       "      <td>A42</td>\n",
       "      <td>7882</td>\n",
       "      <td>A61</td>\n",
       "      <td>A74</td>\n",
       "      <td>2</td>\n",
       "      <td>A93</td>\n",
       "      <td>A103</td>\n",
       "      <td>...</td>\n",
       "      <td>A122</td>\n",
       "      <td>45</td>\n",
       "      <td>A143</td>\n",
       "      <td>A153</td>\n",
       "      <td>1</td>\n",
       "      <td>A173</td>\n",
       "      <td>2</td>\n",
       "      <td>A191</td>\n",
       "      <td>A201</td>\n",
       "      <td>1</td>\n",
       "    </tr>\n",
       "    <tr>\n",
       "      <th>4</th>\n",
       "      <td>A11</td>\n",
       "      <td>24</td>\n",
       "      <td>A33</td>\n",
       "      <td>A40</td>\n",
       "      <td>4870</td>\n",
       "      <td>A61</td>\n",
       "      <td>A73</td>\n",
       "      <td>3</td>\n",
       "      <td>A93</td>\n",
       "      <td>A101</td>\n",
       "      <td>...</td>\n",
       "      <td>A124</td>\n",
       "      <td>53</td>\n",
       "      <td>A143</td>\n",
       "      <td>A153</td>\n",
       "      <td>2</td>\n",
       "      <td>A173</td>\n",
       "      <td>2</td>\n",
       "      <td>A191</td>\n",
       "      <td>A201</td>\n",
       "      <td>2</td>\n",
       "    </tr>\n",
       "  </tbody>\n",
       "</table>\n",
       "<p>5 rows × 21 columns</p>\n",
       "</div>"
      ],
      "text/plain": [
       "  checking_status_acc  duration credit_history purpose  amount savings  \\\n",
       "0                 A11         6            A34     A43    1169     A65   \n",
       "1                 A12        48            A32     A43    5951     A61   \n",
       "2                 A14        12            A34     A46    2096     A61   \n",
       "3                 A11        42            A32     A42    7882     A61   \n",
       "4                 A11        24            A33     A40    4870     A61   \n",
       "\n",
       "  employment  installment_rate marital_Gender other_debtors  ...  property  \\\n",
       "0        A75                 4            A93          A101  ...      A121   \n",
       "1        A73                 2            A92          A101  ...      A121   \n",
       "2        A74                 2            A93          A101  ...      A121   \n",
       "3        A74                 2            A93          A103  ...      A122   \n",
       "4        A73                 3            A93          A101  ...      A124   \n",
       "\n",
       "  age  other_installment_plans housing existing_credits   job dependents  \\\n",
       "0  67                     A143    A152                2  A173          1   \n",
       "1  22                     A143    A152                1  A173          1   \n",
       "2  49                     A143    A152                1  A172          2   \n",
       "3  45                     A143    A153                1  A173          2   \n",
       "4  53                     A143    A153                2  A173          2   \n",
       "\n",
       "   telephone foreign_worker credit_risk  \n",
       "0       A192           A201           1  \n",
       "1       A191           A201           2  \n",
       "2       A191           A201           1  \n",
       "3       A191           A201           1  \n",
       "4       A191           A201           2  \n",
       "\n",
       "[5 rows x 21 columns]"
      ]
     },
     "execution_count": 3,
     "metadata": {},
     "output_type": "execute_result"
    }
   ],
   "source": [
    "statlog_german_credit_data = fetch_ucirepo(id=144) \n",
    "credit = pd.concat([pd.DataFrame(statlog_german_credit_data.data.features), pd.DataFrame(statlog_german_credit_data.data.targets)], axis=1)\n",
    "credit.columns = ['checking_status_acc','duration','credit_history','purpose','amount','savings','employment','installment_rate','marital_Gender','other_debtors','present_residence','property','age','other_installment_plans','housing','existing_credits','job','dependents','telephone','foreign_worker', 'credit_risk']\n",
    "credit.head()"
   ]
  },
  {
   "cell_type": "code",
   "execution_count": 4,
   "id": "5b20b9a0",
   "metadata": {},
   "outputs": [
    {
     "data": {
      "text/plain": [
       "(1000, 21)"
      ]
     },
     "execution_count": 4,
     "metadata": {},
     "output_type": "execute_result"
    }
   ],
   "source": [
    "credit.shape"
   ]
  },
  {
   "cell_type": "code",
   "execution_count": 5,
   "id": "3cdf0c37",
   "metadata": {},
   "outputs": [
    {
     "name": "stdout",
     "output_type": "stream",
     "text": [
      "['checking_status_acc', 'duration', 'credit_history', 'purpose', 'amount', 'savings', 'employment', 'installment_rate', 'marital_Gender', 'other_debtors', 'present_residence', 'property', 'age', 'other_installment_plans', 'housing', 'existing_credits', 'job', 'dependents', 'telephone', 'foreign_worker', 'credit_risk']\n"
     ]
    }
   ],
   "source": [
    "print(credit.columns.tolist())"
   ]
  },
  {
   "cell_type": "code",
   "execution_count": 6,
   "id": "85ad6ede",
   "metadata": {},
   "outputs": [
    {
     "name": "stdout",
     "output_type": "stream",
     "text": [
      "<class 'pandas.core.frame.DataFrame'>\n",
      "RangeIndex: 1000 entries, 0 to 999\n",
      "Data columns (total 21 columns):\n",
      " #   Column                   Non-Null Count  Dtype \n",
      "---  ------                   --------------  ----- \n",
      " 0   checking_status_acc      1000 non-null   object\n",
      " 1   duration                 1000 non-null   int64 \n",
      " 2   credit_history           1000 non-null   object\n",
      " 3   purpose                  1000 non-null   object\n",
      " 4   amount                   1000 non-null   int64 \n",
      " 5   savings                  1000 non-null   object\n",
      " 6   employment               1000 non-null   object\n",
      " 7   installment_rate         1000 non-null   int64 \n",
      " 8   marital_Gender           1000 non-null   object\n",
      " 9   other_debtors            1000 non-null   object\n",
      " 10  present_residence        1000 non-null   int64 \n",
      " 11  property                 1000 non-null   object\n",
      " 12  age                      1000 non-null   int64 \n",
      " 13  other_installment_plans  1000 non-null   object\n",
      " 14  housing                  1000 non-null   object\n",
      " 15  existing_credits         1000 non-null   int64 \n",
      " 16  job                      1000 non-null   object\n",
      " 17  dependents               1000 non-null   int64 \n",
      " 18  telephone                1000 non-null   object\n",
      " 19  foreign_worker           1000 non-null   object\n",
      " 20  credit_risk              1000 non-null   int64 \n",
      "dtypes: int64(8), object(13)\n",
      "memory usage: 164.2+ KB\n"
     ]
    }
   ],
   "source": [
    "credit.info()"
   ]
  },
  {
   "cell_type": "code",
   "execution_count": 7,
   "id": "2c79d6dc",
   "metadata": {},
   "outputs": [
    {
     "data": {
      "text/html": [
       "<div>\n",
       "<style scoped>\n",
       "    .dataframe tbody tr th:only-of-type {\n",
       "        vertical-align: middle;\n",
       "    }\n",
       "\n",
       "    .dataframe tbody tr th {\n",
       "        vertical-align: top;\n",
       "    }\n",
       "\n",
       "    .dataframe thead th {\n",
       "        text-align: right;\n",
       "    }\n",
       "</style>\n",
       "<table border=\"1\" class=\"dataframe\">\n",
       "  <thead>\n",
       "    <tr style=\"text-align: right;\">\n",
       "      <th></th>\n",
       "      <th>name</th>\n",
       "      <th>role</th>\n",
       "      <th>type</th>\n",
       "      <th>demographic</th>\n",
       "      <th>description</th>\n",
       "      <th>units</th>\n",
       "      <th>missing_values</th>\n",
       "    </tr>\n",
       "  </thead>\n",
       "  <tbody>\n",
       "    <tr>\n",
       "      <th>0</th>\n",
       "      <td>Attribute1</td>\n",
       "      <td>Feature</td>\n",
       "      <td>Categorical</td>\n",
       "      <td>None</td>\n",
       "      <td>Status of existing checking account</td>\n",
       "      <td>None</td>\n",
       "      <td>no</td>\n",
       "    </tr>\n",
       "    <tr>\n",
       "      <th>1</th>\n",
       "      <td>Attribute2</td>\n",
       "      <td>Feature</td>\n",
       "      <td>Integer</td>\n",
       "      <td>None</td>\n",
       "      <td>Duration</td>\n",
       "      <td>months</td>\n",
       "      <td>no</td>\n",
       "    </tr>\n",
       "    <tr>\n",
       "      <th>2</th>\n",
       "      <td>Attribute3</td>\n",
       "      <td>Feature</td>\n",
       "      <td>Categorical</td>\n",
       "      <td>None</td>\n",
       "      <td>Credit history</td>\n",
       "      <td>None</td>\n",
       "      <td>no</td>\n",
       "    </tr>\n",
       "    <tr>\n",
       "      <th>3</th>\n",
       "      <td>Attribute4</td>\n",
       "      <td>Feature</td>\n",
       "      <td>Categorical</td>\n",
       "      <td>None</td>\n",
       "      <td>Purpose</td>\n",
       "      <td>None</td>\n",
       "      <td>no</td>\n",
       "    </tr>\n",
       "    <tr>\n",
       "      <th>4</th>\n",
       "      <td>Attribute5</td>\n",
       "      <td>Feature</td>\n",
       "      <td>Integer</td>\n",
       "      <td>None</td>\n",
       "      <td>Credit amount</td>\n",
       "      <td>None</td>\n",
       "      <td>no</td>\n",
       "    </tr>\n",
       "    <tr>\n",
       "      <th>5</th>\n",
       "      <td>Attribute6</td>\n",
       "      <td>Feature</td>\n",
       "      <td>Categorical</td>\n",
       "      <td>None</td>\n",
       "      <td>Savings account/bonds</td>\n",
       "      <td>None</td>\n",
       "      <td>no</td>\n",
       "    </tr>\n",
       "    <tr>\n",
       "      <th>6</th>\n",
       "      <td>Attribute7</td>\n",
       "      <td>Feature</td>\n",
       "      <td>Categorical</td>\n",
       "      <td>Other</td>\n",
       "      <td>Present employment since</td>\n",
       "      <td>None</td>\n",
       "      <td>no</td>\n",
       "    </tr>\n",
       "    <tr>\n",
       "      <th>7</th>\n",
       "      <td>Attribute8</td>\n",
       "      <td>Feature</td>\n",
       "      <td>Integer</td>\n",
       "      <td>None</td>\n",
       "      <td>Installment rate in percentage of disposable i...</td>\n",
       "      <td>None</td>\n",
       "      <td>no</td>\n",
       "    </tr>\n",
       "    <tr>\n",
       "      <th>8</th>\n",
       "      <td>Attribute9</td>\n",
       "      <td>Feature</td>\n",
       "      <td>Categorical</td>\n",
       "      <td>Marital Status</td>\n",
       "      <td>Personal status and sex</td>\n",
       "      <td>None</td>\n",
       "      <td>no</td>\n",
       "    </tr>\n",
       "    <tr>\n",
       "      <th>9</th>\n",
       "      <td>Attribute10</td>\n",
       "      <td>Feature</td>\n",
       "      <td>Categorical</td>\n",
       "      <td>None</td>\n",
       "      <td>Other debtors / guarantors</td>\n",
       "      <td>None</td>\n",
       "      <td>no</td>\n",
       "    </tr>\n",
       "    <tr>\n",
       "      <th>10</th>\n",
       "      <td>Attribute11</td>\n",
       "      <td>Feature</td>\n",
       "      <td>Integer</td>\n",
       "      <td>None</td>\n",
       "      <td>Present residence since</td>\n",
       "      <td>None</td>\n",
       "      <td>no</td>\n",
       "    </tr>\n",
       "    <tr>\n",
       "      <th>11</th>\n",
       "      <td>Attribute12</td>\n",
       "      <td>Feature</td>\n",
       "      <td>Categorical</td>\n",
       "      <td>None</td>\n",
       "      <td>Property</td>\n",
       "      <td>None</td>\n",
       "      <td>no</td>\n",
       "    </tr>\n",
       "    <tr>\n",
       "      <th>12</th>\n",
       "      <td>Attribute13</td>\n",
       "      <td>Feature</td>\n",
       "      <td>Integer</td>\n",
       "      <td>Age</td>\n",
       "      <td>Age</td>\n",
       "      <td>years</td>\n",
       "      <td>no</td>\n",
       "    </tr>\n",
       "    <tr>\n",
       "      <th>13</th>\n",
       "      <td>Attribute14</td>\n",
       "      <td>Feature</td>\n",
       "      <td>Categorical</td>\n",
       "      <td>None</td>\n",
       "      <td>Other installment plans</td>\n",
       "      <td>None</td>\n",
       "      <td>no</td>\n",
       "    </tr>\n",
       "    <tr>\n",
       "      <th>14</th>\n",
       "      <td>Attribute15</td>\n",
       "      <td>Feature</td>\n",
       "      <td>Categorical</td>\n",
       "      <td>Other</td>\n",
       "      <td>Housing</td>\n",
       "      <td>None</td>\n",
       "      <td>no</td>\n",
       "    </tr>\n",
       "    <tr>\n",
       "      <th>15</th>\n",
       "      <td>Attribute16</td>\n",
       "      <td>Feature</td>\n",
       "      <td>Integer</td>\n",
       "      <td>None</td>\n",
       "      <td>Number of existing credits at this bank</td>\n",
       "      <td>None</td>\n",
       "      <td>no</td>\n",
       "    </tr>\n",
       "    <tr>\n",
       "      <th>16</th>\n",
       "      <td>Attribute17</td>\n",
       "      <td>Feature</td>\n",
       "      <td>Categorical</td>\n",
       "      <td>Occupation</td>\n",
       "      <td>Job</td>\n",
       "      <td>None</td>\n",
       "      <td>no</td>\n",
       "    </tr>\n",
       "    <tr>\n",
       "      <th>17</th>\n",
       "      <td>Attribute18</td>\n",
       "      <td>Feature</td>\n",
       "      <td>Integer</td>\n",
       "      <td>None</td>\n",
       "      <td>Number of people being liable to provide maint...</td>\n",
       "      <td>None</td>\n",
       "      <td>no</td>\n",
       "    </tr>\n",
       "    <tr>\n",
       "      <th>18</th>\n",
       "      <td>Attribute19</td>\n",
       "      <td>Feature</td>\n",
       "      <td>Binary</td>\n",
       "      <td>None</td>\n",
       "      <td>Telephone</td>\n",
       "      <td>None</td>\n",
       "      <td>no</td>\n",
       "    </tr>\n",
       "    <tr>\n",
       "      <th>19</th>\n",
       "      <td>Attribute20</td>\n",
       "      <td>Feature</td>\n",
       "      <td>Binary</td>\n",
       "      <td>Other</td>\n",
       "      <td>foreign worker</td>\n",
       "      <td>None</td>\n",
       "      <td>no</td>\n",
       "    </tr>\n",
       "    <tr>\n",
       "      <th>20</th>\n",
       "      <td>class</td>\n",
       "      <td>Target</td>\n",
       "      <td>Binary</td>\n",
       "      <td>None</td>\n",
       "      <td>1 = Good, 2 = Bad</td>\n",
       "      <td>None</td>\n",
       "      <td>no</td>\n",
       "    </tr>\n",
       "  </tbody>\n",
       "</table>\n",
       "</div>"
      ],
      "text/plain": [
       "           name     role         type     demographic  \\\n",
       "0    Attribute1  Feature  Categorical            None   \n",
       "1    Attribute2  Feature      Integer            None   \n",
       "2    Attribute3  Feature  Categorical            None   \n",
       "3    Attribute4  Feature  Categorical            None   \n",
       "4    Attribute5  Feature      Integer            None   \n",
       "5    Attribute6  Feature  Categorical            None   \n",
       "6    Attribute7  Feature  Categorical           Other   \n",
       "7    Attribute8  Feature      Integer            None   \n",
       "8    Attribute9  Feature  Categorical  Marital Status   \n",
       "9   Attribute10  Feature  Categorical            None   \n",
       "10  Attribute11  Feature      Integer            None   \n",
       "11  Attribute12  Feature  Categorical            None   \n",
       "12  Attribute13  Feature      Integer             Age   \n",
       "13  Attribute14  Feature  Categorical            None   \n",
       "14  Attribute15  Feature  Categorical           Other   \n",
       "15  Attribute16  Feature      Integer            None   \n",
       "16  Attribute17  Feature  Categorical      Occupation   \n",
       "17  Attribute18  Feature      Integer            None   \n",
       "18  Attribute19  Feature       Binary            None   \n",
       "19  Attribute20  Feature       Binary           Other   \n",
       "20        class   Target       Binary            None   \n",
       "\n",
       "                                          description   units missing_values  \n",
       "0                 Status of existing checking account    None             no  \n",
       "1                                            Duration  months             no  \n",
       "2                                      Credit history    None             no  \n",
       "3                                             Purpose    None             no  \n",
       "4                                       Credit amount    None             no  \n",
       "5                               Savings account/bonds    None             no  \n",
       "6                            Present employment since    None             no  \n",
       "7   Installment rate in percentage of disposable i...    None             no  \n",
       "8                             Personal status and sex    None             no  \n",
       "9                          Other debtors / guarantors    None             no  \n",
       "10                            Present residence since    None             no  \n",
       "11                                           Property    None             no  \n",
       "12                                                Age   years             no  \n",
       "13                            Other installment plans    None             no  \n",
       "14                                            Housing    None             no  \n",
       "15            Number of existing credits at this bank    None             no  \n",
       "16                                                Job    None             no  \n",
       "17  Number of people being liable to provide maint...    None             no  \n",
       "18                                          Telephone    None             no  \n",
       "19                                     foreign worker    None             no  \n",
       "20                                  1 = Good, 2 = Bad    None             no  "
      ]
     },
     "execution_count": 7,
     "metadata": {},
     "output_type": "execute_result"
    }
   ],
   "source": [
    "statlog_german_credit_data.variables"
   ]
  },
  {
   "cell_type": "code",
   "execution_count": 8,
   "id": "c8319b28",
   "metadata": {},
   "outputs": [
    {
     "data": {
      "text/plain": [
       "False    1000\n",
       "Name: count, dtype: int64"
      ]
     },
     "execution_count": 8,
     "metadata": {},
     "output_type": "execute_result"
    }
   ],
   "source": [
    "credit.duplicated().value_counts()"
   ]
  },
  {
   "cell_type": "code",
   "execution_count": 9,
   "id": "4de8093a",
   "metadata": {},
   "outputs": [
    {
     "data": {
      "text/plain": [
       "checking_status_acc\n",
       "A14    394\n",
       "A11    274\n",
       "A12    269\n",
       "A13     63\n",
       "Name: count, dtype: int64"
      ]
     },
     "execution_count": 9,
     "metadata": {},
     "output_type": "execute_result"
    }
   ],
   "source": [
    "credit['checking_status_acc'].value_counts()"
   ]
  },
  {
   "cell_type": "code",
   "execution_count": 10,
   "id": "f91cf82b",
   "metadata": {},
   "outputs": [
    {
     "data": {
      "text/plain": [
       "credit_history\n",
       "A32    530\n",
       "A34    293\n",
       "A33     88\n",
       "A31     49\n",
       "A30     40\n",
       "Name: count, dtype: int64"
      ]
     },
     "execution_count": 10,
     "metadata": {},
     "output_type": "execute_result"
    }
   ],
   "source": [
    "credit['credit_history'].value_counts()"
   ]
  },
  {
   "cell_type": "code",
   "execution_count": 11,
   "id": "aa66ecc1",
   "metadata": {},
   "outputs": [
    {
     "data": {
      "text/html": [
       "<div>\n",
       "<style scoped>\n",
       "    .dataframe tbody tr th:only-of-type {\n",
       "        vertical-align: middle;\n",
       "    }\n",
       "\n",
       "    .dataframe tbody tr th {\n",
       "        vertical-align: top;\n",
       "    }\n",
       "\n",
       "    .dataframe thead th {\n",
       "        text-align: right;\n",
       "    }\n",
       "</style>\n",
       "<table border=\"1\" class=\"dataframe\">\n",
       "  <thead>\n",
       "    <tr style=\"text-align: right;\">\n",
       "      <th>credit_risk</th>\n",
       "      <th>1</th>\n",
       "      <th>2</th>\n",
       "    </tr>\n",
       "    <tr>\n",
       "      <th>credit_history</th>\n",
       "      <th></th>\n",
       "      <th></th>\n",
       "    </tr>\n",
       "  </thead>\n",
       "  <tbody>\n",
       "    <tr>\n",
       "      <th>A30</th>\n",
       "      <td>15</td>\n",
       "      <td>25</td>\n",
       "    </tr>\n",
       "    <tr>\n",
       "      <th>A31</th>\n",
       "      <td>21</td>\n",
       "      <td>28</td>\n",
       "    </tr>\n",
       "    <tr>\n",
       "      <th>A32</th>\n",
       "      <td>361</td>\n",
       "      <td>169</td>\n",
       "    </tr>\n",
       "    <tr>\n",
       "      <th>A33</th>\n",
       "      <td>60</td>\n",
       "      <td>28</td>\n",
       "    </tr>\n",
       "    <tr>\n",
       "      <th>A34</th>\n",
       "      <td>243</td>\n",
       "      <td>50</td>\n",
       "    </tr>\n",
       "  </tbody>\n",
       "</table>\n",
       "</div>"
      ],
      "text/plain": [
       "credit_risk       1    2\n",
       "credit_history          \n",
       "A30              15   25\n",
       "A31              21   28\n",
       "A32             361  169\n",
       "A33              60   28\n",
       "A34             243   50"
      ]
     },
     "execution_count": 11,
     "metadata": {},
     "output_type": "execute_result"
    }
   ],
   "source": [
    "pd.crosstab(credit.credit_history, credit.credit_risk)"
   ]
  },
  {
   "cell_type": "code",
   "execution_count": 12,
   "id": "78be7015",
   "metadata": {},
   "outputs": [
    {
     "data": {
      "text/html": [
       "<div>\n",
       "<style scoped>\n",
       "    .dataframe tbody tr th:only-of-type {\n",
       "        vertical-align: middle;\n",
       "    }\n",
       "\n",
       "    .dataframe tbody tr th {\n",
       "        vertical-align: top;\n",
       "    }\n",
       "\n",
       "    .dataframe thead th {\n",
       "        text-align: right;\n",
       "    }\n",
       "</style>\n",
       "<table border=\"1\" class=\"dataframe\">\n",
       "  <thead>\n",
       "    <tr style=\"text-align: right;\">\n",
       "      <th>credit_risk</th>\n",
       "      <th>1</th>\n",
       "      <th>2</th>\n",
       "    </tr>\n",
       "    <tr>\n",
       "      <th>employment</th>\n",
       "      <th></th>\n",
       "      <th></th>\n",
       "    </tr>\n",
       "  </thead>\n",
       "  <tbody>\n",
       "    <tr>\n",
       "      <th>A71</th>\n",
       "      <td>39</td>\n",
       "      <td>23</td>\n",
       "    </tr>\n",
       "    <tr>\n",
       "      <th>A72</th>\n",
       "      <td>102</td>\n",
       "      <td>70</td>\n",
       "    </tr>\n",
       "    <tr>\n",
       "      <th>A73</th>\n",
       "      <td>235</td>\n",
       "      <td>104</td>\n",
       "    </tr>\n",
       "    <tr>\n",
       "      <th>A74</th>\n",
       "      <td>135</td>\n",
       "      <td>39</td>\n",
       "    </tr>\n",
       "    <tr>\n",
       "      <th>A75</th>\n",
       "      <td>189</td>\n",
       "      <td>64</td>\n",
       "    </tr>\n",
       "  </tbody>\n",
       "</table>\n",
       "</div>"
      ],
      "text/plain": [
       "credit_risk    1    2\n",
       "employment           \n",
       "A71           39   23\n",
       "A72          102   70\n",
       "A73          235  104\n",
       "A74          135   39\n",
       "A75          189   64"
      ]
     },
     "execution_count": 12,
     "metadata": {},
     "output_type": "execute_result"
    }
   ],
   "source": [
    "pd.crosstab(credit.employment, credit.credit_risk)"
   ]
  },
  {
   "cell_type": "code",
   "execution_count": 13,
   "id": "b2035ce2",
   "metadata": {},
   "outputs": [
    {
     "data": {
      "image/png": "[encoded data removed]",
      "text/plain": [
       "<Figure size 640x480 with 1 Axes>"
      ]
     },
     "metadata": {},
     "output_type": "display_data"
    }
   ],
   "source": [
    "sns.boxplot(x='employment', y='duration', hue='credit_risk', data=credit)\n",
    "plt.show()"
   ]
  },
  {
   "cell_type": "code",
   "execution_count": 14,
   "id": "e91f00dc",
   "metadata": {},
   "outputs": [
    {
     "data": {
      "text/html": [
       "<div>\n",
       "<style scoped>\n",
       "    .dataframe tbody tr th:only-of-type {\n",
       "        vertical-align: middle;\n",
       "    }\n",
       "\n",
       "    .dataframe tbody tr th {\n",
       "        vertical-align: top;\n",
       "    }\n",
       "\n",
       "    .dataframe thead th {\n",
       "        text-align: right;\n",
       "    }\n",
       "</style>\n",
       "<table border=\"1\" class=\"dataframe\">\n",
       "  <thead>\n",
       "    <tr style=\"text-align: right;\">\n",
       "      <th></th>\n",
       "      <th>checking_status_acc</th>\n",
       "      <th>duration</th>\n",
       "      <th>credit_history</th>\n",
       "      <th>purpose</th>\n",
       "      <th>amount</th>\n",
       "      <th>savings</th>\n",
       "      <th>employment</th>\n",
       "      <th>installment_rate</th>\n",
       "      <th>marital_Gender</th>\n",
       "      <th>other_debtors</th>\n",
       "      <th>...</th>\n",
       "      <th>property</th>\n",
       "      <th>age</th>\n",
       "      <th>other_installment_plans</th>\n",
       "      <th>housing</th>\n",
       "      <th>existing_credits</th>\n",
       "      <th>job</th>\n",
       "      <th>dependents</th>\n",
       "      <th>telephone</th>\n",
       "      <th>foreign_worker</th>\n",
       "      <th>credit_risk</th>\n",
       "    </tr>\n",
       "  </thead>\n",
       "  <tbody>\n",
       "    <tr>\n",
       "      <th>0</th>\n",
       "      <td>A11</td>\n",
       "      <td>6</td>\n",
       "      <td>A34</td>\n",
       "      <td>A43</td>\n",
       "      <td>1169</td>\n",
       "      <td>A65</td>\n",
       "      <td>A75</td>\n",
       "      <td>4</td>\n",
       "      <td>A93</td>\n",
       "      <td>A101</td>\n",
       "      <td>...</td>\n",
       "      <td>A121</td>\n",
       "      <td>67</td>\n",
       "      <td>A143</td>\n",
       "      <td>A152</td>\n",
       "      <td>2</td>\n",
       "      <td>A173</td>\n",
       "      <td>1</td>\n",
       "      <td>A192</td>\n",
       "      <td>A201</td>\n",
       "      <td>1</td>\n",
       "    </tr>\n",
       "    <tr>\n",
       "      <th>1</th>\n",
       "      <td>A12</td>\n",
       "      <td>48</td>\n",
       "      <td>A32</td>\n",
       "      <td>A43</td>\n",
       "      <td>5951</td>\n",
       "      <td>A61</td>\n",
       "      <td>A73</td>\n",
       "      <td>2</td>\n",
       "      <td>A92</td>\n",
       "      <td>A101</td>\n",
       "      <td>...</td>\n",
       "      <td>A121</td>\n",
       "      <td>22</td>\n",
       "      <td>A143</td>\n",
       "      <td>A152</td>\n",
       "      <td>1</td>\n",
       "      <td>A173</td>\n",
       "      <td>1</td>\n",
       "      <td>A191</td>\n",
       "      <td>A201</td>\n",
       "      <td>2</td>\n",
       "    </tr>\n",
       "    <tr>\n",
       "      <th>2</th>\n",
       "      <td>A14</td>\n",
       "      <td>12</td>\n",
       "      <td>A34</td>\n",
       "      <td>A46</td>\n",
       "      <td>2096</td>\n",
       "      <td>A61</td>\n",
       "      <td>A74</td>\n",
       "      <td>2</td>\n",
       "      <td>A93</td>\n",
       "      <td>A101</td>\n",
       "      <td>...</td>\n",
       "      <td>A121</td>\n",
       "      <td>49</td>\n",
       "      <td>A143</td>\n",
       "      <td>A152</td>\n",
       "      <td>1</td>\n",
       "      <td>A172</td>\n",
       "      <td>2</td>\n",
       "      <td>A191</td>\n",
       "      <td>A201</td>\n",
       "      <td>1</td>\n",
       "    </tr>\n",
       "    <tr>\n",
       "      <th>3</th>\n",
       "      <td>A11</td>\n",
       "      <td>42</td>\n",
       "      <td>A32</td>\n",
       "      <td>A42</td>\n",
       "      <td>7882</td>\n",
       "      <td>A61</td>\n",
       "      <td>A74</td>\n",
       "      <td>2</td>\n",
       "      <td>A93</td>\n",
       "      <td>A103</td>\n",
       "      <td>...</td>\n",
       "      <td>A122</td>\n",
       "      <td>45</td>\n",
       "      <td>A143</td>\n",
       "      <td>A153</td>\n",
       "      <td>1</td>\n",
       "      <td>A173</td>\n",
       "      <td>2</td>\n",
       "      <td>A191</td>\n",
       "      <td>A201</td>\n",
       "      <td>1</td>\n",
       "    </tr>\n",
       "    <tr>\n",
       "      <th>4</th>\n",
       "      <td>A11</td>\n",
       "      <td>24</td>\n",
       "      <td>A33</td>\n",
       "      <td>A40</td>\n",
       "      <td>4870</td>\n",
       "      <td>A61</td>\n",
       "      <td>A73</td>\n",
       "      <td>3</td>\n",
       "      <td>A93</td>\n",
       "      <td>A101</td>\n",
       "      <td>...</td>\n",
       "      <td>A124</td>\n",
       "      <td>53</td>\n",
       "      <td>A143</td>\n",
       "      <td>A153</td>\n",
       "      <td>2</td>\n",
       "      <td>A173</td>\n",
       "      <td>2</td>\n",
       "      <td>A191</td>\n",
       "      <td>A201</td>\n",
       "      <td>2</td>\n",
       "    </tr>\n",
       "  </tbody>\n",
       "</table>\n",
       "<p>5 rows × 21 columns</p>\n",
       "</div>"
      ],
      "text/plain": [
       "  checking_status_acc  duration credit_history purpose  amount savings  \\\n",
       "0                 A11         6            A34     A43    1169     A65   \n",
       "1                 A12        48            A32     A43    5951     A61   \n",
       "2                 A14        12            A34     A46    2096     A61   \n",
       "3                 A11        42            A32     A42    7882     A61   \n",
       "4                 A11        24            A33     A40    4870     A61   \n",
       "\n",
       "  employment  installment_rate marital_Gender other_debtors  ...  property  \\\n",
       "0        A75                 4            A93          A101  ...      A121   \n",
       "1        A73                 2            A92          A101  ...      A121   \n",
       "2        A74                 2            A93          A101  ...      A121   \n",
       "3        A74                 2            A93          A103  ...      A122   \n",
       "4        A73                 3            A93          A101  ...      A124   \n",
       "\n",
       "  age  other_installment_plans housing existing_credits   job dependents  \\\n",
       "0  67                     A143    A152                2  A173          1   \n",
       "1  22                     A143    A152                1  A173          1   \n",
       "2  49                     A143    A152                1  A172          2   \n",
       "3  45                     A143    A153                1  A173          2   \n",
       "4  53                     A143    A153                2  A173          2   \n",
       "\n",
       "   telephone foreign_worker credit_risk  \n",
       "0       A192           A201           1  \n",
       "1       A191           A201           2  \n",
       "2       A191           A201           1  \n",
       "3       A191           A201           1  \n",
       "4       A191           A201           2  \n",
       "\n",
       "[5 rows x 21 columns]"
      ]
     },
     "execution_count": 14,
     "metadata": {},
     "output_type": "execute_result"
    }
   ],
   "source": [
    "credit.head()"
   ]
  },
  {
   "cell_type": "code",
   "execution_count": 15,
   "id": "539c2718",
   "metadata": {},
   "outputs": [
    {
     "name": "stdout",
     "output_type": "stream",
     "text": [
      "{'uci_id': 144, 'name': 'Statlog (German Credit Data)', 'repository_url': 'https://archive.ics.uci.edu/dataset/144/statlog+german+credit+data', 'data_url': 'https://archive.ics.uci.edu/static/public/144/data.csv', 'abstract': 'This dataset classifies people described by a set of attributes as good or bad credit risks. Comes in two formats (one all numeric). Also comes with a cost matrix', 'area': 'Social Science', 'tasks': ['Classification'], 'characteristics': ['Multivariate'], 'num_instances': 1000, 'num_features': 20, 'feature_types': ['Categorical', 'Integer'], 'demographics': ['Other', 'Marital Status', 'Age', 'Occupation'], 'target_col': ['class'], 'index_col': None, 'has_missing_values': 'no', 'missing_values_symbol': None, 'year_of_dataset_creation': 1994, 'last_updated': 'Thu Aug 10 2023', 'dataset_doi': '10.24432/C5NC77', 'creators': ['Hans Hofmann'], 'intro_paper': None, 'additional_info': {'summary': 'Two datasets are provided.  the original dataset, in the form provided by Prof. Hofmann, contains categorical/symbolic attributes and is in the file \"german.data\".   \\r\\n \\r\\nFor algorithms that need numerical attributes, Strathclyde University produced the file \"german.data-numeric\".  This file has been edited and several indicator variables added to make it suitable for algorithms which cannot cope with categorical variables.   Several attributes that are ordered categorical (such as attribute 17) have been coded as integer.    This was the form used by StatLog.\\r\\n\\r\\nThis dataset requires use of a cost matrix (see below)\\r\\n\\r\\n ..... 1        2\\r\\n----------------------------\\r\\n  1   0        1\\r\\n-----------------------\\r\\n  2   5        0\\r\\n\\r\\n(1 = Good,  2 = Bad)\\r\\n\\r\\nThe rows represent the actual classification and the columns the predicted classification.\\r\\n\\r\\nIt is worse to class a customer as good when they are bad (5), than it is to class a customer as bad when they are good (1).\\r\\n', 'purpose': None, 'funded_by': None, 'instances_represent': None, 'recommended_data_splits': None, 'sensitive_data': None, 'preprocessing_description': None, 'variable_info': 'Attribute 1:  (qualitative)      \\r\\n Status of existing checking account\\r\\n             A11 :      ... <    0 DM\\r\\n\\t       A12 : 0 <= ... <  200 DM\\r\\n\\t       A13 :      ... >= 200 DM / salary assignments for at least 1 year\\r\\n               A14 : no checking account\\r\\n\\r\\nAttribute 2:  (numerical)\\r\\n\\t      Duration in month\\r\\n\\r\\nAttribute 3:  (qualitative)\\r\\n\\t      Credit history\\r\\n\\t      A30 : no credits taken/ all credits paid back duly\\r\\n              A31 : all credits at this bank paid back duly\\r\\n\\t      A32 : existing credits paid back duly till now\\r\\n              A33 : delay in paying off in the past\\r\\n\\t      A34 : critical account/  other credits existing (not at this bank)\\r\\n\\r\\nAttribute 4:  (qualitative)\\r\\n\\t      Purpose\\r\\n\\t      A40 : car (new)\\r\\n\\t      A41 : car (used)\\r\\n\\t      A42 : furniture/equipment\\r\\n\\t      A43 : radio/television\\r\\n\\t      A44 : domestic appliances\\r\\n\\t      A45 : repairs\\r\\n\\t      A46 : education\\r\\n\\t      A47 : (vacation - does not exist?)\\r\\n\\t      A48 : retraining\\r\\n\\t      A49 : business\\r\\n\\t      A410 : others\\r\\n\\r\\nAttribute 5:  (numerical)\\r\\n\\t      Credit amount\\r\\n\\r\\nAttibute 6:  (qualitative)\\r\\n\\t      Savings account/bonds\\r\\n\\t      A61 :          ... <  100 DM\\r\\n\\t      A62 :   100 <= ... <  500 DM\\r\\n\\t      A63 :   500 <= ... < 1000 DM\\r\\n\\t      A64 :          .. >= 1000 DM\\r\\n              A65 :   unknown/ no savings account\\r\\n\\r\\nAttribute 7:  (qualitative)\\r\\n\\t      Present employment since\\r\\n\\t      A71 : unemployed\\r\\n\\t      A72 :       ... < 1 year\\r\\n\\t      A73 : 1  <= ... < 4 years  \\r\\n\\t      A74 : 4  <= ... < 7 years\\r\\n\\t      A75 :       .. >= 7 years\\r\\n\\r\\nAttribute 8:  (numerical)\\r\\n\\t      Installment rate in percentage of disposable income\\r\\n\\r\\nAttribute 9:  (qualitative)\\r\\n\\t      Personal status and sex\\r\\n\\t      A91 : male   : divorced/separated\\r\\n\\t      A92 : female : divorced/separated/married\\r\\n              A93 : male   : single\\r\\n\\t      A94 : male   : married/widowed\\r\\n\\t      A95 : female : single\\r\\n\\r\\nAttribute 10: (qualitative)\\r\\n\\t      Other debtors / guarantors\\r\\n\\t      A101 : none\\r\\n\\t      A102 : co-applicant\\r\\n\\t      A103 : guarantor\\r\\n\\r\\nAttribute 11: (numerical)\\r\\n\\t      Present residence since\\r\\n\\r\\nAttribute 12: (qualitative)\\r\\n\\t      Property\\r\\n\\t      A121 : real estate\\r\\n\\t      A122 : if not A121 : building society savings agreement/ life insurance\\r\\n              A123 : if not A121/A122 : car or other, not in attribute 6\\r\\n\\t      A124 : unknown / no property\\r\\n\\r\\nAttribute 13: (numerical)\\r\\n\\t      Age in years\\r\\n\\r\\nAttribute 14: (qualitative)\\r\\n\\t      Other installment plans \\r\\n\\t      A141 : bank\\r\\n\\t      A142 : stores\\r\\n\\t      A143 : none\\r\\n\\r\\nAttribute 15: (qualitative)\\r\\n\\t      Housing\\r\\n\\t      A151 : rent\\r\\n\\t      A152 : own\\r\\n\\t      A153 : for free\\r\\n\\r\\nAttribute 16: (numerical)\\r\\n              Number of existing credits at this bank\\r\\n\\r\\nAttribute 17: (qualitative)\\r\\n\\t      Job\\r\\n\\t      A171 : unemployed/ unskilled  - non-resident\\r\\n\\t      A172 : unskilled - resident\\r\\n\\t      A173 : skilled employee / official\\r\\n\\t      A174 : management/ self-employed/\\r\\n\\t\\t     highly qualified employee/ officer\\r\\n\\r\\nAttribute 18: (numerical)\\r\\n\\t      Number of people being liable to provide maintenance for\\r\\n\\r\\nAttribute 19: (qualitative)\\r\\n\\t      Telephone\\r\\n\\t      A191 : none\\r\\n\\t      A192 : yes, registered under the customers name\\r\\n\\r\\nAttribute 20: (qualitative)\\r\\n\\t      foreign worker\\r\\n\\t      A201 : yes\\r\\n\\t      A202 : no\\r\\n', 'citation': None}}\n"
     ]
    }
   ],
   "source": [
    "print(statlog_german_credit_data.metadata) "
   ]
  },
  {
   "cell_type": "markdown",
   "id": "0069e5c5",
   "metadata": {},
   "source": [
    "### Weight of Evidence (WOE) e Information Value (IV)"
   ]
  },
  {
   "cell_type": "code",
   "execution_count": 16,
   "id": "b17a8bb1",
   "metadata": {},
   "outputs": [
    {
     "name": "stdout",
     "output_type": "stream",
     "text": [
      "Variável: checking_status_acc\n",
      "IV Total: 0.6660\n",
      "credit_risk                 1         2       woe        iv\n",
      "checking_status_acc                                        \n",
      "A11                  0.198571  0.450000  0.818099  0.205693\n",
      "A12                  0.234286  0.350000  0.401392  0.046447\n",
      "A13                  0.070000  0.046667 -0.405465  0.009461\n",
      "A14                  0.497143  0.153333 -1.176263  0.404410\n",
      "-------------------------------------------------------------------------------------\n",
      "\n",
      "Variável: credit_history\n",
      "IV Total: 0.2932\n",
      "credit_risk            1         2       woe        iv\n",
      "credit_history                                        \n",
      "A30             0.021429  0.083333  1.358123  0.084074\n",
      "A31             0.030000  0.093333  1.134980  0.071882\n",
      "A32             0.515714  0.563333  0.088319  0.004206\n",
      "A33             0.085714  0.093333  0.085158  0.000649\n",
      "A34             0.347143  0.166667 -0.733741  0.132423\n",
      "-------------------------------------------------------------------------------------\n",
      "\n",
      "Variável: purpose\n",
      "IV Total: 0.1692\n",
      "credit_risk         1         2       woe        iv\n",
      "purpose                                            \n",
      "A40          0.207143  0.296667  0.359200  0.032157\n",
      "A41          0.122857  0.056667 -0.773836  0.051221\n",
      "A410         0.010000  0.016667  0.510826  0.003406\n",
      "A42          0.175714  0.193333  0.095557  0.001684\n",
      "A43          0.311429  0.206667 -0.410063  0.042959\n",
      "A44          0.011429  0.013333  0.154151  0.000294\n",
      "A45          0.020000  0.026667  0.287682  0.001918\n",
      "A46          0.040000  0.073333  0.606136  0.020205\n",
      "A48          0.011429  0.003333 -1.232144  0.009974\n",
      "A49          0.090000  0.113333  0.230524  0.005379\n",
      "-------------------------------------------------------------------------------------\n",
      "\n",
      "Variável: savings\n",
      "IV Total: 0.1960\n",
      "credit_risk         1         2       woe        iv\n",
      "savings                                            \n",
      "A61          0.551429  0.723333  0.271358  0.046648\n",
      "A62          0.098571  0.113333  0.139552  0.002060\n",
      "A63          0.074286  0.036667 -0.706051  0.026561\n",
      "A64          0.060000  0.020000 -1.098612  0.043944\n",
      "A65          0.215714  0.106667 -0.704246  0.076796\n",
      "-------------------------------------------------------------------------------------\n",
      "\n",
      "Variável: employment\n",
      "IV Total: 0.0864\n",
      "credit_risk         1         2       woe        iv\n",
      "employment                                         \n",
      "A71          0.055714  0.076667  0.319230  0.006689\n",
      "A72          0.145714  0.233333  0.470820  0.041253\n",
      "A73          0.335714  0.346667  0.032103  0.000352\n",
      "A74          0.192857  0.130000 -0.394415  0.024792\n",
      "A75          0.270000  0.213333 -0.235566  0.013349\n",
      "-------------------------------------------------------------------------------------\n",
      "\n",
      "Variável: marital_Gender\n",
      "IV Total: 0.0447\n",
      "credit_risk            1         2       woe        iv\n",
      "marital_Gender                                        \n",
      "A91             0.042857  0.066667  0.441833  0.010520\n",
      "A92             0.287143  0.363333  0.235341  0.017931\n",
      "A93             0.574286  0.486667 -0.165548  0.014505\n",
      "A94             0.095714  0.083333 -0.138519  0.001715\n",
      "-------------------------------------------------------------------------------------\n",
      "\n",
      "Variável: other_debtors\n",
      "IV Total: 0.0320\n",
      "credit_risk           1         2       woe            iv\n",
      "other_debtors                                            \n",
      "A101           0.907143  0.906667 -0.000525  2.500344e-07\n",
      "A102           0.032857  0.060000  0.602175  1.634476e-02\n",
      "A103           0.060000  0.033333 -0.587787  1.567431e-02\n",
      "-------------------------------------------------------------------------------------\n",
      "\n",
      "Variável: property\n",
      "IV Total: 0.1126\n",
      "credit_risk         1         2       woe        iv\n",
      "property                                           \n",
      "A121         0.317143  0.200000 -0.461035  0.054007\n",
      "A122         0.230000  0.236667  0.028573  0.000190\n",
      "A123         0.328571  0.340000  0.034191  0.000391\n",
      "A124         0.124286  0.223333  0.586082  0.058050\n",
      "-------------------------------------------------------------------------------------\n",
      "\n",
      "Variável: other_installment_plans\n",
      "IV Total: 0.0576\n",
      "credit_risk                     1         2       woe        iv\n",
      "other_installment_plans                                        \n",
      "A141                     0.117143  0.190000  0.483630  0.035236\n",
      "A142                     0.040000  0.063333  0.459532  0.010722\n",
      "A143                     0.842857  0.746667 -0.121179  0.011656\n",
      "-------------------------------------------------------------------------------------\n",
      "\n",
      "Variável: housing\n",
      "IV Total: 0.0833\n",
      "credit_risk         1         2       woe        iv\n",
      "housing                                            \n",
      "A151         0.155714  0.233333  0.404445  0.031393\n",
      "A152         0.752857  0.620000 -0.194156  0.025795\n",
      "A153         0.091429  0.146667  0.472604  0.026106\n",
      "-------------------------------------------------------------------------------------\n",
      "\n",
      "Variável: job\n",
      "IV Total: 0.0088\n",
      "credit_risk         1         2       woe        iv\n",
      "job                                                \n",
      "A171         0.021429  0.023333  0.085158  0.000162\n",
      "A172         0.205714  0.186667 -0.097164  0.001851\n",
      "A173         0.634286  0.620000 -0.022780  0.000325\n",
      "A174         0.138571  0.170000  0.204413  0.006424\n",
      "-------------------------------------------------------------------------------------\n",
      "\n",
      "Variável: telephone\n",
      "IV Total: 0.0064\n",
      "credit_risk         1         2       woe        iv\n",
      "telephone                                          \n",
      "A191         0.584286  0.623333  0.064691  0.002526\n",
      "A192         0.415714  0.376667 -0.098638  0.003852\n",
      "-------------------------------------------------------------------------------------\n",
      "\n"
     ]
    }
   ],
   "source": [
    "for i in credit.drop(columns=['duration', 'amount', 'present_residence', 'age', 'existing_credits', 'dependents', \n",
    "                               'installment_rate', 'foreign_worker', 'credit_risk']).columns:\n",
    "    \n",
    "    df_woe_iv = (pd.crosstab(credit[i], credit['credit_risk'], normalize='columns')\n",
    "                 .assign(woe=lambda dfx: np.log(dfx[2] / dfx[1]))\n",
    "                 .assign(iv=lambda dfx: (dfx[2] - dfx[1]) * dfx['woe']))\n",
    "    \n",
    "    iv_total = df_woe_iv['iv'].sum()\n",
    "    \n",
    "    print(f\"Variável: {i}\")\n",
    "    print(f\"IV Total: {iv_total:.4f}\")\n",
    "    print(df_woe_iv)\n",
    "    print('-------------------------------------------------------------------------------------\\n')"
   ]
  },
  {
   "cell_type": "code",
   "execution_count": 17,
   "id": "0a893344",
   "metadata": {},
   "outputs": [
    {
     "data": {
      "text/plain": [
       "<Figure size 1000x1200 with 0 Axes>"
      ]
     },
     "metadata": {},
     "output_type": "display_data"
    },
    {
     "data": {
      "image/png": "[encoded data removed]",
      "text/plain": [
       "<Figure size 640x480 with 1 Axes>"
      ]
     },
     "metadata": {},
     "output_type": "display_data"
    }
   ],
   "source": [
    "# Variaveis categoricas\n",
    "columns_cat = credit.drop(columns=['duration', 'amount', 'present_residence', 'age', 'existing_credits', 'dependents', \n",
    "                               'installment_rate', 'foreign_worker', 'credit_risk']).columns\n",
    "    \n",
    "# Lista para o IV\n",
    "iv = []\n",
    "\n",
    "for i in columns_cat:\n",
    "    df_woe_iv = (pd.crosstab(credit[i], credit['credit_risk'], normalize='columns')\n",
    "                 .assign(woe=lambda dfx: np.log(dfx[2] / dfx[1]))\n",
    "                 .assign(iv=lambda dfx: (dfx[2] - dfx[1]) * dfx['woe']))\n",
    "    iv.append( df_woe_iv['iv'].sum())\n",
    "    \n",
    "df_iv = pd.DataFrame({'Features': columns_cat, 'iv': iv}).set_index('Features').sort_values(by = 'iv')\n",
    "\n",
    "# plot\n",
    "plt.figure(figsize=(10,12))\n",
    "df_iv.plot(kind='barh', title='Information Value das Variaveis Categóricas', colormap='Accent')\n",
    "for index, value in enumerate(list(round(df_iv['iv'], 3))):\n",
    "    plt.text((value), index, str(value))\n",
    "plt.legend(loc='lower right')\n",
    "plt.show()"
   ]
  },
  {
   "cell_type": "code",
   "execution_count": 18,
   "id": "7aa9ca78",
   "metadata": {},
   "outputs": [
    {
     "data": {
      "text/plain": [
       "savings\n",
       "A61    603\n",
       "A65    183\n",
       "A62    103\n",
       "A63     63\n",
       "A64     48\n",
       "Name: count, dtype: int64"
      ]
     },
     "execution_count": 18,
     "metadata": {},
     "output_type": "execute_result"
    }
   ],
   "source": [
    "credit.savings.value_counts()"
   ]
  },
  {
   "cell_type": "code",
   "execution_count": 19,
   "id": "19822d5c",
   "metadata": {},
   "outputs": [
    {
     "data": {
      "text/plain": [
       "checking_status_acc\n",
       "A14    394\n",
       "A11    274\n",
       "A12    269\n",
       "A13     63\n",
       "Name: count, dtype: int64"
      ]
     },
     "execution_count": 19,
     "metadata": {},
     "output_type": "execute_result"
    }
   ],
   "source": [
    "credit.checking_status_acc.value_counts()"
   ]
  },
  {
   "cell_type": "markdown",
   "id": "3d7226be",
   "metadata": {},
   "source": [
    "##### Bins variables continuos "
   ]
  },
  {
   "cell_type": "code",
   "execution_count": null,
   "id": "eb8d4409",
   "metadata": {},
   "outputs": [
    {
     "data": {
      "text/plain": [
       "array([ 4,  5,  6,  7,  8,  9, 10, 11, 12, 13, 14, 15, 16, 18, 20, 21, 22,\n",
       "       24, 26, 27, 28, 30, 33, 36, 39, 40, 42, 45, 47, 48, 54, 60, 72],\n",
       "      dtype=int64)"
      ]
     },
     "execution_count": 20,
     "metadata": {},
     "output_type": "execute_result"
    }
   ],
   "source": [
    "duration = np.sort(credit.duration.unique())\n",
    "duration"
   ]
  },
  {
   "cell_type": "code",
   "execution_count": 33,
   "id": "81e03761",
   "metadata": {},
   "outputs": [],
   "source": [
    "def iv_woe(data, target, bins=10, show_woe=False):\n",
    "    \n",
    "    #Empty Dataframe\n",
    "    newDF,woeDF = pd.DataFrame(), pd.DataFrame()\n",
    "    \n",
    "    #Extract Column Names\n",
    "    cols = data.columns\n",
    "    \n",
    "    #Run WOE and IV on all the independent variables\n",
    "    for ivars in cols[~cols.isin([target])]:\n",
    "        if (data[ivars].dtype.kind in 'bifc') and (len(np.unique(data[ivars]))>10):\n",
    "            binned_x = pd.qcut(data[ivars], bins,  duplicates='drop')\n",
    "            d0 = pd.DataFrame({'x': binned_x, 'y': data[target]})\n",
    "        else:\n",
    "            d0 = pd.DataFrame({'x': data[ivars], 'y': data[target]})\n",
    "\n",
    "        d0 = d0.astype({\"x\": str})\n",
    "        d = d0.groupby(\"x\", as_index=False, dropna=False).agg({\"y\": [\"count\", \"sum\"]})\n",
    "        d.columns = ['Cutoff', 'N', 'Events']\n",
    "        d['% of Events'] = np.maximum(d['Events'], 0.5) / d['Events'].sum()\n",
    "        d['Non-Events'] = d['N'] - d['Events']\n",
    "        d['% of Non-Events'] = np.maximum(d['Non-Events'], 0.5) / d['Non-Events'].sum()\n",
    "        d['WoE'] = np.log(d['% of Non-Events']/d['% of Events'])\n",
    "        d['IV'] = d['WoE'] * (d['% of Non-Events']-d['% of Events'])\n",
    "        d.insert(loc=0, column='Variable', value=ivars)\n",
    "        print(\"Information value of \" + ivars + \" is \" + str(round(d['IV'].sum(),6)))\n",
    "        temp =pd.DataFrame({\"Variable\" : [ivars], \"IV\" : [d['IV'].sum()]}, columns = [\"Variable\", \"IV\"])\n",
    "        newDF=pd.concat([newDF,temp], axis=0)\n",
    "        woeDF=pd.concat([woeDF,d], axis=0)\n",
    "\n",
    "        #Show WOE Table\n",
    "        if show_woe == True:\n",
    "            print(d)\n",
    "    return newDF, woeDF"
   ]
  },
  {
   "cell_type": "code",
   "execution_count": null,
   "id": "5f135418",
   "metadata": {},
   "outputs": [
    {
     "data": {
      "text/plain": [
       "duration\n",
       "[24.0, 36.0)     244\n",
       "[12.0, 15.0)     187\n",
       "[36.0, 72.99)    170\n",
       "[18.0, 24.0)     153\n",
       "[3.999, 9.0)      94\n",
       "[9.0, 12.0)       86\n",
       "[15.0, 18.0)      66\n",
       "Name: count, dtype: int64"
      ]
     },
     "execution_count": 22,
     "metadata": {},
     "output_type": "execute_result"
    }
   ],
   "source": [
    "bins = [3.999, 9, 12, 15, 18, 24, 36, 72.99]\n",
    "\n",
    "pd.cut(credit['duration'], bins, right=False).value_counts()"
   ]
  },
  {
   "cell_type": "code",
   "execution_count": 34,
   "id": "d7946be4",
   "metadata": {},
   "outputs": [
    {
     "name": "stdout",
     "output_type": "stream",
     "text": [
      "Information value of duration is 0.0\n",
      "   Variable        Cutoff    N  Events  % of Events  Non-Events  \\\n",
      "0  duration  (12.0, 15.0]   72      85     0.065385         -13   \n",
      "1  duration  (15.0, 18.0]  115     158     0.121538         -43   \n",
      "2  duration  (18.0, 24.0]  224     290     0.223077         -66   \n",
      "3  duration  (24.0, 30.0]   57      76     0.058462         -19   \n",
      "4  duration  (3.999, 9.0]  143     167     0.128462         -24   \n",
      "5  duration  (30.0, 36.0]   86     124     0.095385         -38   \n",
      "6  duration  (36.0, 72.0]   87     132     0.101538         -45   \n",
      "7  duration   (9.0, 12.0]  216     268     0.206154         -52   \n",
      "\n",
      "   % of Non-Events  WoE  IV  \n",
      "0        -0.001667  NaN NaN  \n",
      "1        -0.001667  NaN NaN  \n",
      "2        -0.001667  NaN NaN  \n",
      "3        -0.001667  NaN NaN  \n",
      "4        -0.001667  NaN NaN  \n",
      "5        -0.001667  NaN NaN  \n",
      "6        -0.001667  NaN NaN  \n",
      "7        -0.001667  NaN NaN  \n",
      "   Variable   IV\n",
      "0  duration  0.0\n",
      "   Variable        Cutoff    N  Events  % of Events  Non-Events  \\\n",
      "0  duration  (12.0, 15.0]   72      85     0.065385         -13   \n",
      "1  duration  (15.0, 18.0]  115     158     0.121538         -43   \n",
      "2  duration  (18.0, 24.0]  224     290     0.223077         -66   \n",
      "3  duration  (24.0, 30.0]   57      76     0.058462         -19   \n",
      "4  duration  (3.999, 9.0]  143     167     0.128462         -24   \n",
      "5  duration  (30.0, 36.0]   86     124     0.095385         -38   \n",
      "6  duration  (36.0, 72.0]   87     132     0.101538         -45   \n",
      "7  duration   (9.0, 12.0]  216     268     0.206154         -52   \n",
      "\n",
      "   % of Non-Events  WoE  IV  \n",
      "0        -0.001667  NaN NaN  \n",
      "1        -0.001667  NaN NaN  \n",
      "2        -0.001667  NaN NaN  \n",
      "3        -0.001667  NaN NaN  \n",
      "4        -0.001667  NaN NaN  \n",
      "5        -0.001667  NaN NaN  \n",
      "6        -0.001667  NaN NaN  \n",
      "7        -0.001667  NaN NaN  \n"
     ]
    },
    {
     "name": "stderr",
     "output_type": "stream",
     "text": [
      "C:\\Users\\maylon\\AppData\\Roaming\\Python\\Python311\\site-packages\\pandas\\core\\arraylike.py:396: RuntimeWarning: invalid value encountered in log\n",
      "  result = getattr(ufunc, method)(*inputs, **kwargs)\n"
     ]
    }
   ],
   "source": [
    "iv, woe = iv_woe(data = credit[['duration', 'credit_risk']], target = 'credit_risk', bins=10, show_woe = True)\n",
    "print(iv)\n",
    "print(woe)"
   ]
  },
  {
   "cell_type": "code",
   "execution_count": 24,
   "id": "0286bc0c",
   "metadata": {},
   "outputs": [
    {
     "name": "stdout",
     "output_type": "stream",
     "text": [
      "Information value of duration is 0.0\n",
      "   Variable        Cutoff    N  Events  % of Events  Non-Events  \\\n",
      "0  duration  (12.0, 15.0]   72      85     0.065385         -13   \n",
      "1  duration  (15.0, 18.0]  115     158     0.121538         -43   \n",
      "2  duration  (18.0, 24.0]  224     290     0.223077         -66   \n",
      "3  duration  (24.0, 30.0]   57      76     0.058462         -19   \n",
      "4  duration  (3.999, 9.0]  143     167     0.128462         -24   \n",
      "5  duration  (30.0, 36.0]   86     124     0.095385         -38   \n",
      "6  duration  (36.0, 72.0]   87     132     0.101538         -45   \n",
      "7  duration   (9.0, 12.0]  216     268     0.206154         -52   \n",
      "\n",
      "   % of Non-Events  WoE  IV  \n",
      "0        -0.001667  NaN NaN  \n",
      "1        -0.001667  NaN NaN  \n",
      "2        -0.001667  NaN NaN  \n",
      "3        -0.001667  NaN NaN  \n",
      "4        -0.001667  NaN NaN  \n",
      "5        -0.001667  NaN NaN  \n",
      "6        -0.001667  NaN NaN  \n",
      "7        -0.001667  NaN NaN  \n"
     ]
    },
    {
     "name": "stderr",
     "output_type": "stream",
     "text": [
      "C:\\Users\\maylon\\AppData\\Roaming\\Python\\Python311\\site-packages\\pandas\\core\\arraylike.py:396: RuntimeWarning: invalid value encountered in log\n",
      "  result = getattr(ufunc, method)(*inputs, **kwargs)\n"
     ]
    }
   ],
   "source": [
    "iv, woe = iv_woe(data = credit[['duration', 'credit_risk']], target = 'credit_risk', bins=10, show_woe = True)\n"
   ]
  },
  {
   "cell_type": "code",
   "execution_count": null,
   "id": "3a2498d8",
   "metadata": {},
   "outputs": [
    {
     "data": {
      "text/plain": [
       "[[0.0, 10.0), [40.0, 72.1), [10.0, 20.0), [20.0, 30.0), [30.0, 40.0)]\n",
       "Categories (5, interval[float64, left]): [[0.0, 10.0) < [10.0, 20.0) < [20.0, 30.0) < [30.0, 40.0) < [40.0, 72.1)]"
      ]
     },
     "execution_count": 25,
     "metadata": {},
     "output_type": "execute_result"
    }
   ],
   "source": [
    "bins = [0, 10, 20, 30, 40, 72.1]\n",
    "credit['duration_fx'] = pd.cut(credit['duration'], bins, right=False)\n",
    "credit['duration_fx'].unique()"
   ]
  },
  {
   "cell_type": "code",
   "execution_count": 26,
   "id": "55a76334",
   "metadata": {},
   "outputs": [
    {
     "data": {
      "text/plain": [
       "duration_fx\n",
       "[10.0, 20.0)    0.403\n",
       "[20.0, 30.0)    0.241\n",
       "[0.0, 10.0)     0.143\n",
       "[30.0, 40.0)    0.131\n",
       "[40.0, 72.1)    0.082\n",
       "Name: count, dtype: float64"
      ]
     },
     "execution_count": 26,
     "metadata": {},
     "output_type": "execute_result"
    }
   ],
   "source": [
    "credit['duration_fx'].value_counts()/credit.shape[0]"
   ]
  },
  {
   "cell_type": "code",
   "execution_count": 63,
   "id": "5ba0ab7e",
   "metadata": {},
   "outputs": [],
   "source": [
    "def plot_by_woe(df_woe, rotation_of_x_axis_labels = 0):\n",
    "    x = np.array(df_woe.index.astype(str))\n",
    "    y = df_woe['woe']\n",
    "    plt.figure(figsize=(18, 6))\n",
    "    plt.plot(x, y, marker='o', linestyle='--', color='k')\n",
    "    plt.xlabel(df_woe.columns[0])\n",
    "    plt.ylabel('Weight of Evidence')\n",
    "    plt.title(str('Weight of Evidence by ' + df_woe.columns[0]))\n",
    "    plt.xticks(rotation = rotation_of_x_axis_labels)"
   ]
  },
  {
   "cell_type": "code",
   "execution_count": 65,
   "id": "da53d1da",
   "metadata": {},
   "outputs": [
    {
     "name": "stdout",
     "output_type": "stream",
     "text": [
      "Variável: duration_fx\n",
      "IV Total: 0.1953\n",
      "credit_risk          1         2       woe        iv\n",
      "duration_fx                                         \n",
      "[0.0, 10.0)   0.170000  0.080000 -0.753772  0.067839\n",
      "[10.0, 20.0)  0.421429  0.360000 -0.157546  0.009678\n",
      "[20.0, 30.0)  0.241429  0.240000 -0.005935  0.000008\n",
      "[30.0, 40.0)  0.112857  0.173333  0.429094  0.025950\n",
      "[40.0, 72.1)  0.054286  0.146667  0.993901  0.091818\n",
      "-------------------------------------------------------------------------------------\n",
      "\n"
     ]
    },
    {
     "ename": "TypeError",
     "evalue": "can only concatenate str (not \"int\") to str",
     "output_type": "error",
     "traceback": [
      "\u001b[1;31m---------------------------------------------------------------------------\u001b[0m",
      "\u001b[1;31mTypeError\u001b[0m                                 Traceback (most recent call last)",
      "Cell \u001b[1;32mIn[65], line 12\u001b[0m\n\u001b[0;32m      9\u001b[0m \u001b[38;5;28mprint\u001b[39m(df_woe_iv)\n\u001b[0;32m     10\u001b[0m \u001b[38;5;28mprint\u001b[39m(\u001b[38;5;124m'\u001b[39m\u001b[38;5;124m-------------------------------------------------------------------------------------\u001b[39m\u001b[38;5;130;01m\\n\u001b[39;00m\u001b[38;5;124m'\u001b[39m)\n\u001b[1;32m---> 12\u001b[0m \u001b[43mplot_by_woe\u001b[49m\u001b[43m(\u001b[49m\u001b[43mdf_woe_iv\u001b[49m\u001b[43m)\u001b[49m\n",
      "Cell \u001b[1;32mIn[63], line 8\u001b[0m, in \u001b[0;36mplot_by_woe\u001b[1;34m(df_woe, rotation_of_x_axis_labels)\u001b[0m\n\u001b[0;32m      6\u001b[0m plt\u001b[38;5;241m.\u001b[39mxlabel(df_woe\u001b[38;5;241m.\u001b[39mcolumns[\u001b[38;5;241m0\u001b[39m])\n\u001b[0;32m      7\u001b[0m plt\u001b[38;5;241m.\u001b[39mylabel(\u001b[38;5;124m'\u001b[39m\u001b[38;5;124mWeight of Evidence\u001b[39m\u001b[38;5;124m'\u001b[39m)\n\u001b[1;32m----> 8\u001b[0m plt\u001b[38;5;241m.\u001b[39mtitle(\u001b[38;5;28mstr\u001b[39m(\u001b[38;5;124;43m'\u001b[39;49m\u001b[38;5;124;43mWeight of Evidence by \u001b[39;49m\u001b[38;5;124;43m'\u001b[39;49m\u001b[43m \u001b[49m\u001b[38;5;241;43m+\u001b[39;49m\u001b[43m \u001b[49m\u001b[43mdf_woe\u001b[49m\u001b[38;5;241;43m.\u001b[39;49m\u001b[43mcolumns\u001b[49m\u001b[43m[\u001b[49m\u001b[38;5;241;43m0\u001b[39;49m\u001b[43m]\u001b[49m))\n\u001b[0;32m      9\u001b[0m plt\u001b[38;5;241m.\u001b[39mxticks(rotation \u001b[38;5;241m=\u001b[39m rotation_of_x_axis_labels)\n",
      "\u001b[1;31mTypeError\u001b[0m: can only concatenate str (not \"int\") to str"
     ]
    },
    {
     "data": {
      "image/png": "[encoded data removed]",
      "text/plain": [
       "<Figure size 1800x600 with 1 Axes>"
      ]
     },
     "metadata": {},
     "output_type": "display_data"
    }
   ],
   "source": [
    "df_woe_iv = (pd.crosstab(credit['duration_fx'], credit['credit_risk'], normalize='columns')\n",
    "                 .assign(woe=lambda dfx: np.log(dfx[2] / dfx[1]))\n",
    "                 .assign(iv=lambda dfx: (dfx[2] - dfx[1]) * dfx['woe']))\n",
    "    \n",
    "iv_total = df_woe_iv['iv'].sum()\n",
    "    \n",
    "print(f\"Variável: {'duration_fx'}\")\n",
    "print(f\"IV Total: {iv_total:.4f}\")\n",
    "print(df_woe_iv)\n",
    "print('-------------------------------------------------------------------------------------\\n')\n",
    "\n",
    "plot_by_woe(df_woe_iv)"
   ]
  },
  {
   "cell_type": "code",
   "execution_count": 62,
   "id": "c66a2f83",
   "metadata": {},
   "outputs": [
    {
     "data": {
      "text/plain": [
       "array([Interval(0.0, 10.0, closed='left'),\n",
       "       Interval(10.0, 20.0, closed='left'),\n",
       "       Interval(20.0, 30.0, closed='left'),\n",
       "       Interval(30.0, 40.0, closed='left'),\n",
       "       Interval(40.0, 72.1, closed='left')], dtype=object)"
      ]
     },
     "execution_count": 62,
     "metadata": {},
     "output_type": "execute_result"
    }
   ],
   "source": [
    "np.array(df_woe_iv.index.tolist())\n"
   ]
  },
  {
   "cell_type": "code",
   "execution_count": 31,
   "id": "e29e9a8c",
   "metadata": {},
   "outputs": [
    {
     "name": "stdout",
     "output_type": "stream",
     "text": [
      "Variável: present_residence\n",
      "IV Total: 0.0036\n",
      "credit_risk               1         2       woe            iv\n",
      "present_residence                                            \n",
      "1                  0.134286  0.120000 -0.112478  1.606828e-03\n",
      "2                  0.301429  0.323333  0.070151  1.536634e-03\n",
      "3                  0.151429  0.143333 -0.054941  4.447614e-04\n",
      "4                  0.412857  0.413333  0.001153  5.489228e-07\n",
      "-------------------------------------------------------------------------------------\n",
      "\n"
     ]
    }
   ],
   "source": [
    "df_woe_iv = (pd.crosstab(credit['present_residence'], credit['credit_risk'], normalize='columns')\n",
    "                 .assign(woe=lambda dfx: np.log(dfx[2] / dfx[1]))\n",
    "                 .assign(iv=lambda dfx: (dfx[2] - dfx[1]) * dfx['woe']))\n",
    "    \n",
    "iv_total = df_woe_iv['iv'].sum()\n",
    "    \n",
    "print(f\"Variável: {'present_residence'}\")\n",
    "print(f\"IV Total: {iv_total:.4f}\")\n",
    "print(df_woe_iv)\n",
    "print('-------------------------------------------------------------------------------------\\n')"
   ]
  },
  {
   "cell_type": "code",
   "execution_count": 40,
   "id": "9402602f",
   "metadata": {},
   "outputs": [
    {
     "name": "stdout",
     "output_type": "stream",
     "text": [
      "[19 20 21 22 23 24 25 26 27 28 29 30 31 32 33 34 35 36 37 38 39 40 41 42\n",
      " 43 44 45 46 47 48 49 50 51 52 53 54 55 56 57 58 59 60 61 62 63 64 65 66\n",
      " 67 68 70 74 75]\n"
     ]
    },
    {
     "data": {
      "text/plain": [
       "age_fx\n",
       "[20.0, 30.0)    369\n",
       "[30.0, 40.0)    330\n",
       "[40.0, 50.0)    174\n",
       "[50.0, 60.0)     74\n",
       "[60.0, 75.1)     51\n",
       "Name: count, dtype: int64"
      ]
     },
     "execution_count": 40,
     "metadata": {},
     "output_type": "execute_result"
    }
   ],
   "source": [
    "print(np.sort(credit['age'].unique()))\n",
    "\n",
    "bins = [20, 30, 40, 50, 60, 75.1]\n",
    "credit['age_fx'] = pd.cut(credit['age'], bins, right=False)\n",
    "credit['age_fx'].value_counts()"
   ]
  },
  {
   "cell_type": "code",
   "execution_count": 41,
   "id": "64dbe024",
   "metadata": {},
   "outputs": [
    {
     "name": "stdout",
     "output_type": "stream",
     "text": [
      "Variável: age_fx\n",
      "IV Total: 0.0636\n",
      "credit_risk          1         2       woe        iv\n",
      "age_fx                                              \n",
      "[20.0, 30.0)  0.333333  0.454849  0.310824  0.037770\n",
      "[30.0, 40.0)  0.350501  0.284281 -0.209400  0.013866\n",
      "[40.0, 50.0)  0.185980  0.147157 -0.234138  0.009090\n",
      "[50.0, 60.0)  0.075823  0.070234 -0.076562  0.000428\n",
      "[60.0, 75.1)  0.054363  0.043478 -0.223430  0.002432\n",
      "-------------------------------------------------------------------------------------\n",
      "\n"
     ]
    }
   ],
   "source": [
    "df_woe_iv = (pd.crosstab(credit['age_fx'], credit['credit_risk'], normalize='columns')\n",
    "                 .assign(woe=lambda dfx: np.log(dfx[2] / dfx[1]))\n",
    "                 .assign(iv=lambda dfx: (dfx[2] - dfx[1]) * dfx['woe']))\n",
    "    \n",
    "iv_total = df_woe_iv['iv'].sum()\n",
    "    \n",
    "print(f\"Variável: {'age_fx'}\")\n",
    "print(f\"IV Total: {iv_total:.4f}\")\n",
    "print(df_woe_iv)\n",
    "print('-------------------------------------------------------------------------------------\\n')"
   ]
  },
  {
   "cell_type": "code",
   "execution_count": 44,
   "id": "3b33bf01",
   "metadata": {},
   "outputs": [
    {
     "name": "stdout",
     "output_type": "stream",
     "text": [
      "[1 2 3 4]\n"
     ]
    },
    {
     "data": {
      "text/plain": [
       "existing_credits\n",
       "1    0.633\n",
       "2    0.333\n",
       "3    0.028\n",
       "4    0.006\n",
       "Name: count, dtype: float64"
      ]
     },
     "execution_count": 44,
     "metadata": {},
     "output_type": "execute_result"
    }
   ],
   "source": [
    "print(np.sort(credit['existing_credits'].unique()))\n",
    "credit['existing_credits'].value_counts()/credit.shape[0]"
   ]
  },
  {
   "cell_type": "code",
   "execution_count": 45,
   "id": "bd674fed",
   "metadata": {},
   "outputs": [
    {
     "name": "stdout",
     "output_type": "stream",
     "text": [
      "Variável: existing_credits\n",
      "IV Total: 0.0133\n",
      "credit_risk              1         2       woe        iv\n",
      "existing_credits                                        \n",
      "1                 0.618571  0.666667  0.074877  0.003601\n",
      "2                 0.344286  0.306667 -0.115710  0.004353\n",
      "3                 0.031429  0.020000 -0.451985  0.005166\n",
      "4                 0.005714  0.006667  0.154151  0.000147\n",
      "-------------------------------------------------------------------------------------\n",
      "\n"
     ]
    }
   ],
   "source": [
    "df_woe_iv = (pd.crosstab(credit['existing_credits'], credit['credit_risk'], normalize='columns')\n",
    "                 .assign(woe=lambda dfx: np.log(dfx[2] / dfx[1]))\n",
    "                 .assign(iv=lambda dfx: (dfx[2] - dfx[1]) * dfx['woe']))\n",
    "    \n",
    "iv_total = df_woe_iv['iv'].sum()\n",
    "    \n",
    "print(f\"Variável: {'existing_credits'}\")\n",
    "print(f\"IV Total: {iv_total:.4f}\")\n",
    "print(df_woe_iv)\n",
    "print('-------------------------------------------------------------------------------------\\n')"
   ]
  },
  {
   "cell_type": "code",
   "execution_count": 46,
   "id": "9d26e2df",
   "metadata": {},
   "outputs": [
    {
     "name": "stdout",
     "output_type": "stream",
     "text": [
      "[1 2]\n"
     ]
    },
    {
     "data": {
      "text/plain": [
       "dependents\n",
       "1    0.845\n",
       "2    0.155\n",
       "Name: count, dtype: float64"
      ]
     },
     "execution_count": 46,
     "metadata": {},
     "output_type": "execute_result"
    }
   ],
   "source": [
    "print(np.sort(credit['dependents'].unique()))\n",
    "credit['dependents'].value_counts()/credit.shape[0]"
   ]
  },
  {
   "cell_type": "code",
   "execution_count": 47,
   "id": "e395b933",
   "metadata": {},
   "outputs": [
    {
     "name": "stdout",
     "output_type": "stream",
     "text": [
      "Variável: dependents\n",
      "IV Total: 0.0000\n",
      "credit_risk         1         2       woe        iv\n",
      "dependents                                         \n",
      "1            0.844286  0.846667  0.002816  0.000007\n",
      "2            0.155714  0.153333 -0.015409  0.000037\n",
      "-------------------------------------------------------------------------------------\n",
      "\n"
     ]
    }
   ],
   "source": [
    "df_woe_iv = (pd.crosstab(credit['dependents'], credit['credit_risk'], normalize='columns')\n",
    "                 .assign(woe=lambda dfx: np.log(dfx[2] / dfx[1]))\n",
    "                 .assign(iv=lambda dfx: (dfx[2] - dfx[1]) * dfx['woe']))\n",
    "    \n",
    "iv_total = df_woe_iv['iv'].sum()\n",
    "    \n",
    "print(f\"Variável: {'dependents'}\")\n",
    "print(f\"IV Total: {iv_total:.4f}\")\n",
    "print(df_woe_iv)\n",
    "print('-------------------------------------------------------------------------------------\\n')"
   ]
  },
  {
   "cell_type": "code",
   "execution_count": 48,
   "id": "63a4eae0",
   "metadata": {},
   "outputs": [
    {
     "name": "stdout",
     "output_type": "stream",
     "text": [
      "[1 2 3 4]\n"
     ]
    },
    {
     "data": {
      "text/plain": [
       "installment_rate\n",
       "4    0.476\n",
       "2    0.231\n",
       "3    0.157\n",
       "1    0.136\n",
       "Name: count, dtype: float64"
      ]
     },
     "execution_count": 48,
     "metadata": {},
     "output_type": "execute_result"
    }
   ],
   "source": [
    "print(np.sort(credit['installment_rate'].unique()))\n",
    "credit['installment_rate'].value_counts()/credit.shape[0]"
   ]
  },
  {
   "cell_type": "code",
   "execution_count": 49,
   "id": "6c45c638",
   "metadata": {},
   "outputs": [
    {
     "name": "stdout",
     "output_type": "stream",
     "text": [
      "Variável: installment_rate\n",
      "IV Total: 0.0263\n",
      "credit_risk              1         2       woe        iv\n",
      "installment_rate                                        \n",
      "1                 0.145714  0.113333 -0.251314  0.008138\n",
      "2                 0.241429  0.206667 -0.155466  0.005404\n",
      "3                 0.160000  0.150000 -0.064539  0.000645\n",
      "4                 0.452857  0.530000  0.157300  0.012135\n",
      "-------------------------------------------------------------------------------------\n",
      "\n"
     ]
    }
   ],
   "source": [
    "df_woe_iv = (pd.crosstab(credit['installment_rate'], credit['credit_risk'], normalize='columns')\n",
    "                 .assign(woe=lambda dfx: np.log(dfx[2] / dfx[1]))\n",
    "                 .assign(iv=lambda dfx: (dfx[2] - dfx[1]) * dfx['woe']))\n",
    "    \n",
    "iv_total = df_woe_iv['iv'].sum()\n",
    "    \n",
    "print(f\"Variável: {'installment_rate'}\")\n",
    "print(f\"IV Total: {iv_total:.4f}\")\n",
    "print(df_woe_iv)\n",
    "print('-------------------------------------------------------------------------------------\\n')"
   ]
  },
  {
   "cell_type": "code",
   "execution_count": 50,
   "id": "fd28d586",
   "metadata": {},
   "outputs": [
    {
     "name": "stdout",
     "output_type": "stream",
     "text": [
      "['A201' 'A202']\n"
     ]
    },
    {
     "data": {
      "text/plain": [
       "foreign_worker\n",
       "A201    0.963\n",
       "A202    0.037\n",
       "Name: count, dtype: float64"
      ]
     },
     "execution_count": 50,
     "metadata": {},
     "output_type": "execute_result"
    }
   ],
   "source": [
    "print(np.sort(credit['foreign_worker'].unique()))\n",
    "credit['foreign_worker'].value_counts()/credit.shape[0]"
   ]
  },
  {
   "cell_type": "code",
   "execution_count": 51,
   "id": "bf228e9e",
   "metadata": {},
   "outputs": [
    {
     "name": "stdout",
     "output_type": "stream",
     "text": [
      "Variável: foreign_worker\n",
      "IV Total: 0.0439\n",
      "credit_risk            1         2       woe        iv\n",
      "foreign_worker                                        \n",
      "A201            0.952857  0.986667  0.034867  0.001179\n",
      "A202            0.047143  0.013333 -1.262915  0.042699\n",
      "-------------------------------------------------------------------------------------\n",
      "\n"
     ]
    }
   ],
   "source": [
    "df_woe_iv = (pd.crosstab(credit['foreign_worker'], credit['credit_risk'], normalize='columns')\n",
    "                 .assign(woe=lambda dfx: np.log(dfx[2] / dfx[1]))\n",
    "                 .assign(iv=lambda dfx: (dfx[2] - dfx[1]) * dfx['woe']))\n",
    "    \n",
    "iv_total = df_woe_iv['iv'].sum()\n",
    "    \n",
    "print(f\"Variável: {'foreign_worker'}\")\n",
    "print(f\"IV Total: {iv_total:.4f}\")\n",
    "print(df_woe_iv)\n",
    "print('-------------------------------------------------------------------------------------\\n')"
   ]
  },
  {
   "cell_type": "code",
   "execution_count": null,
   "id": "f95e0a77",
   "metadata": {},
   "outputs": [],
   "source": []
  }
 ],
 "metadata": {
  "kernelspec": {
   "display_name": "Python 3",
   "language": "python",
   "name": "python3"
  },
  "language_info": {
   "codemirror_mode": {
    "name": "ipython",
    "version": 3
   },
   "file_extension": ".py",
   "mimetype": "text/x-python",
   "name": "python",
   "nbconvert_exporter": "python",
   "pygments_lexer": "ipython3",
   "version": "3.11.4"
  }
 },
 "nbformat": 4,
 "nbformat_minor": 5
}
