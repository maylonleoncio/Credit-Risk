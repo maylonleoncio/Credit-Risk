{
 "cells": [
  {
   "cell_type": "markdown",
   "id": "81f6aa25",
   "metadata": {},
   "source": [
    "# Project Credit Risk"
   ]
  },
  {
   "cell_type": "code",
   "execution_count": 1,
   "id": "9fbfe32f",
   "metadata": {},
   "outputs": [],
   "source": [
    "import pandas as pd\n",
    "import numpy as np "
   ]
  },
  {
   "cell_type": "code",
   "execution_count": 3,
   "id": "5dc9024c",
   "metadata": {},
   "outputs": [
    {
     "name": "stdout",
     "output_type": "stream",
     "text": [
      "Defaulting to user installation because normal site-packages is not writeable\n",
      "Requirement already satisfied: ucimlrepo in c:\\users\\maylon\\appdata\\roaming\\python\\python311\\site-packages (0.0.7)\n",
      "Requirement already satisfied: pandas>=1.0.0 in c:\\users\\maylon\\appdata\\roaming\\python\\python311\\site-packages (from ucimlrepo) (2.1.4)\n",
      "Requirement already satisfied: certifi>=2020.12.5 in c:\\users\\maylon\\appdata\\roaming\\python\\python311\\site-packages (from ucimlrepo) (2023.11.17)\n",
      "Requirement already satisfied: numpy<2,>=1.23.2 in c:\\users\\maylon\\appdata\\roaming\\python\\python311\\site-packages (from pandas>=1.0.0->ucimlrepo) (1.26.3)\n",
      "Requirement already satisfied: python-dateutil>=2.8.2 in c:\\users\\maylon\\appdata\\roaming\\python\\python311\\site-packages (from pandas>=1.0.0->ucimlrepo) (2.8.2)\n",
      "Requirement already satisfied: pytz>=2020.1 in c:\\users\\maylon\\appdata\\roaming\\python\\python311\\site-packages (from pandas>=1.0.0->ucimlrepo) (2023.3.post1)\n",
      "Requirement already satisfied: tzdata>=2022.1 in c:\\users\\maylon\\appdata\\roaming\\python\\python311\\site-packages (from pandas>=1.0.0->ucimlrepo) (2023.4)\n",
      "Requirement already satisfied: six>=1.5 in c:\\users\\maylon\\appdata\\roaming\\python\\python311\\site-packages (from python-dateutil>=2.8.2->pandas>=1.0.0->ucimlrepo) (1.16.0)\n"
     ]
    },
    {
     "name": "stderr",
     "output_type": "stream",
     "text": [
      "\n",
      "[notice] A new release of pip is available: 25.0.1 -> 25.2\n",
      "[notice] To update, run: python.exe -m pip install --upgrade pip\n"
     ]
    }
   ],
   "source": [
    "!pip install ucimlrepo"
   ]
  },
  {
   "cell_type": "code",
   "execution_count": 4,
   "id": "913fdbae",
   "metadata": {},
   "outputs": [],
   "source": [
    "from ucimlrepo import fetch_ucirepo"
   ]
  },
  {
   "cell_type": "code",
   "execution_count": 5,
   "id": "09cfb82d",
   "metadata": {},
   "outputs": [
    {
     "data": {
      "text/plain": [
       "{'ids': None,\n",
       " 'features':     Attribute1  Attribute2 Attribute3 Attribute4  Attribute5 Attribute6  \\\n",
       " 0          A11           6        A34        A43        1169        A65   \n",
       " 1          A12          48        A32        A43        5951        A61   \n",
       " 2          A14          12        A34        A46        2096        A61   \n",
       " 3          A11          42        A32        A42        7882        A61   \n",
       " 4          A11          24        A33        A40        4870        A61   \n",
       " ..         ...         ...        ...        ...         ...        ...   \n",
       " 995        A14          12        A32        A42        1736        A61   \n",
       " 996        A11          30        A32        A41        3857        A61   \n",
       " 997        A14          12        A32        A43         804        A61   \n",
       " 998        A11          45        A32        A43        1845        A61   \n",
       " 999        A12          45        A34        A41        4576        A62   \n",
       " \n",
       "     Attribute7  Attribute8 Attribute9 Attribute10  Attribute11 Attribute12  \\\n",
       " 0          A75           4        A93        A101            4        A121   \n",
       " 1          A73           2        A92        A101            2        A121   \n",
       " 2          A74           2        A93        A101            3        A121   \n",
       " 3          A74           2        A93        A103            4        A122   \n",
       " 4          A73           3        A93        A101            4        A124   \n",
       " ..         ...         ...        ...         ...          ...         ...   \n",
       " 995        A74           3        A92        A101            4        A121   \n",
       " 996        A73           4        A91        A101            4        A122   \n",
       " 997        A75           4        A93        A101            4        A123   \n",
       " 998        A73           4        A93        A101            4        A124   \n",
       " 999        A71           3        A93        A101            4        A123   \n",
       " \n",
       "      Attribute13 Attribute14 Attribute15  Attribute16 Attribute17  \\\n",
       " 0             67        A143        A152            2        A173   \n",
       " 1             22        A143        A152            1        A173   \n",
       " 2             49        A143        A152            1        A172   \n",
       " 3             45        A143        A153            1        A173   \n",
       " 4             53        A143        A153            2        A173   \n",
       " ..           ...         ...         ...          ...         ...   \n",
       " 995           31        A143        A152            1        A172   \n",
       " 996           40        A143        A152            1        A174   \n",
       " 997           38        A143        A152            1        A173   \n",
       " 998           23        A143        A153            1        A173   \n",
       " 999           27        A143        A152            1        A173   \n",
       " \n",
       "      Attribute18 Attribute19 Attribute20  \n",
       " 0              1        A192        A201  \n",
       " 1              1        A191        A201  \n",
       " 2              2        A191        A201  \n",
       " 3              2        A191        A201  \n",
       " 4              2        A191        A201  \n",
       " ..           ...         ...         ...  \n",
       " 995            1        A191        A201  \n",
       " 996            1        A192        A201  \n",
       " 997            1        A191        A201  \n",
       " 998            1        A192        A201  \n",
       " 999            1        A191        A201  \n",
       " \n",
       " [1000 rows x 20 columns],\n",
       " 'targets':      class\n",
       " 0        1\n",
       " 1        2\n",
       " 2        1\n",
       " 3        1\n",
       " 4        2\n",
       " ..     ...\n",
       " 995      1\n",
       " 996      1\n",
       " 997      1\n",
       " 998      2\n",
       " 999      1\n",
       " \n",
       " [1000 rows x 1 columns],\n",
       " 'original':     Attribute1  Attribute2 Attribute3 Attribute4  Attribute5 Attribute6  \\\n",
       " 0          A11           6        A34        A43        1169        A65   \n",
       " 1          A12          48        A32        A43        5951        A61   \n",
       " 2          A14          12        A34        A46        2096        A61   \n",
       " 3          A11          42        A32        A42        7882        A61   \n",
       " 4          A11          24        A33        A40        4870        A61   \n",
       " ..         ...         ...        ...        ...         ...        ...   \n",
       " 995        A14          12        A32        A42        1736        A61   \n",
       " 996        A11          30        A32        A41        3857        A61   \n",
       " 997        A14          12        A32        A43         804        A61   \n",
       " 998        A11          45        A32        A43        1845        A61   \n",
       " 999        A12          45        A34        A41        4576        A62   \n",
       " \n",
       "     Attribute7  Attribute8 Attribute9 Attribute10  ...  Attribute12  \\\n",
       " 0          A75           4        A93        A101  ...         A121   \n",
       " 1          A73           2        A92        A101  ...         A121   \n",
       " 2          A74           2        A93        A101  ...         A121   \n",
       " 3          A74           2        A93        A103  ...         A122   \n",
       " 4          A73           3        A93        A101  ...         A124   \n",
       " ..         ...         ...        ...         ...  ...          ...   \n",
       " 995        A74           3        A92        A101  ...         A121   \n",
       " 996        A73           4        A91        A101  ...         A122   \n",
       " 997        A75           4        A93        A101  ...         A123   \n",
       " 998        A73           4        A93        A101  ...         A124   \n",
       " 999        A71           3        A93        A101  ...         A123   \n",
       " \n",
       "     Attribute13  Attribute14 Attribute15 Attribute16  Attribute17 Attribute18  \\\n",
       " 0            67         A143        A152           2         A173           1   \n",
       " 1            22         A143        A152           1         A173           1   \n",
       " 2            49         A143        A152           1         A172           2   \n",
       " 3            45         A143        A153           1         A173           2   \n",
       " 4            53         A143        A153           2         A173           2   \n",
       " ..          ...          ...         ...         ...          ...         ...   \n",
       " 995          31         A143        A152           1         A172           1   \n",
       " 996          40         A143        A152           1         A174           1   \n",
       " 997          38         A143        A152           1         A173           1   \n",
       " 998          23         A143        A153           1         A173           1   \n",
       " 999          27         A143        A152           1         A173           1   \n",
       " \n",
       "      Attribute19 Attribute20 class  \n",
       " 0           A192        A201     1  \n",
       " 1           A191        A201     2  \n",
       " 2           A191        A201     1  \n",
       " 3           A191        A201     1  \n",
       " 4           A191        A201     2  \n",
       " ..           ...         ...   ...  \n",
       " 995         A191        A201     1  \n",
       " 996         A192        A201     1  \n",
       " 997         A191        A201     1  \n",
       " 998         A192        A201     2  \n",
       " 999         A191        A201     1  \n",
       " \n",
       " [1000 rows x 21 columns],\n",
       " 'headers': Index(['Attribute1', 'Attribute2', 'Attribute3', 'Attribute4', 'Attribute5',\n",
       "        'Attribute6', 'Attribute7', 'Attribute8', 'Attribute9', 'Attribute10',\n",
       "        'Attribute11', 'Attribute12', 'Attribute13', 'Attribute14',\n",
       "        'Attribute15', 'Attribute16', 'Attribute17', 'Attribute18',\n",
       "        'Attribute19', 'Attribute20', 'class'],\n",
       "       dtype='object')}"
      ]
     },
     "execution_count": 5,
     "metadata": {},
     "output_type": "execute_result"
    }
   ],
   "source": [
    "statlog_german_credit_data = fetch_ucirepo(id=144) \n",
    "statlog_german_credit_data.data"
   ]
  },
  {
   "cell_type": "code",
   "execution_count": null,
   "id": "0600b4b4",
   "metadata": {},
   "outputs": [],
   "source": []
  }
 ],
 "metadata": {
  "kernelspec": {
   "display_name": "Python 3",
   "language": "python",
   "name": "python3"
  },
  "language_info": {
   "codemirror_mode": {
    "name": "ipython",
    "version": 3
   },
   "file_extension": ".py",
   "mimetype": "text/x-python",
   "name": "python",
   "nbconvert_exporter": "python",
   "pygments_lexer": "ipython3",
   "version": "3.11.4"
  }
 },
 "nbformat": 4,
 "nbformat_minor": 5
}
